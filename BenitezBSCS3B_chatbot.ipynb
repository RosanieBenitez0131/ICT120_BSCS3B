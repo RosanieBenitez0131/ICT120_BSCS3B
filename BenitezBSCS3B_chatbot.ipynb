{
  "nbformat": 4,
  "nbformat_minor": 0,
  "metadata": {
    "colab": {
      "name": "BenitezBSCS3B_chatbot.ipynb",
      "provenance": [],
      "collapsed_sections": [],
      "authorship_tag": "ABX9TyOwweg4zprvSHkCbOrtoguB",
      "include_colab_link": true
    },
    "kernelspec": {
      "name": "python3",
      "display_name": "Python 3"
    },
    "language_info": {
      "name": "python"
    }
  },
  "cells": [
    {
      "cell_type": "markdown",
      "metadata": {
        "id": "view-in-github",
        "colab_type": "text"
      },
      "source": [
        "<a href=\"https://colab.research.google.com/github/RosanieBenitez0131/ICT120_BSCS3B/blob/rbenitez/BenitezBSCS3B_chatbot.ipynb\" target=\"_parent\"><img src=\"https://colab.research.google.com/assets/colab-badge.svg\" alt=\"Open In Colab\"/></a>"
      ]
    },
    {
      "cell_type": "code",
      "metadata": {
        "colab": {
          "base_uri": "https://localhost:8080/"
        },
        "id": "cPTBJV6vg43m",
        "outputId": "484c8747-2b4f-4599-ee4e-889ec8caeb95"
      },
      "source": [
        " # Importing modules\n",
        " \n",
        "import re\n",
        "from nltk.corpus import wordnet\n",
        "import nltk\n",
        "nltk.download('wordnet')"
      ],
      "execution_count": 37,
      "outputs": [
        {
          "output_type": "stream",
          "text": [
            "[nltk_data] Downloading package wordnet to /root/nltk_data...\n",
            "[nltk_data]   Package wordnet is already up-to-date!\n"
          ],
          "name": "stdout"
        },
        {
          "output_type": "execute_result",
          "data": {
            "text/plain": [
              "True"
            ]
          },
          "metadata": {
            "tags": []
          },
          "execution_count": 37
        }
      ]
    },
    {
      "cell_type": "code",
      "metadata": {
        "id": "bmFEpncc_88W",
        "colab": {
          "base_uri": "https://localhost:8080/"
        },
        "outputId": "cafc71d3-8b33-4b8a-e8cd-5c206069f7ed"
      },
      "source": [
        " # Building a list of Keywords\n",
        " \n",
        "list_words=['hello','timings','register','history','balance']\n",
        "list_syn={}\n",
        "for word in list_words:\n",
        "    synonyms=[]\n",
        "    for syn in wordnet.synsets(word):\n",
        "        for lem in syn.lemmas():\n",
        "            \n",
        "            # Remove any special characters from synonym strings\n",
        "            lem_name = re.sub('[^a-zA-Z0-9 \\n\\.]', ' ', lem.name())\n",
        "            synonyms.append(lem_name)\n",
        "   \n",
        "    list_syn[word]=set(synonyms)\n",
        "    \n",
        "print (list_syn)"
      ],
      "execution_count": 38,
      "outputs": [
        {
          "output_type": "stream",
          "text": [
            "{'hello': {'hello', 'hullo', 'hi', 'how do you do', 'howdy'}, 'timings': {'timing', 'time', 'clock'}, 'register': {'cash register', 'show', 'register', 'record', 'read', 'cross file', 'file', 'registry'}, 'history': {'history', 'account', 'story', 'chronicle'}, 'balance': {'equaliser', 'rest', 'remainder', 'Libra the Scales', 'symmetry', 'equilibrise', 'balance', 'residuum', 'counterbalance', 'poise', 'equilibrium', 'balance wheel', 'Libra the Balance', 'counterpoise', 'Libra', 'equalizer', 'equilibrate', 'residue', 'correspondence', 'Balance', 'counterweight', 'residual', 'equilibrize', 'proportionality', 'proportion', 'equipoise', 'symmetricalness'}}\n"
          ],
          "name": "stdout"
        }
      ]
    },
    {
      "cell_type": "code",
      "metadata": {
        "id": "DTv6rG-M54VB",
        "colab": {
          "base_uri": "https://localhost:8080/"
        },
        "outputId": "60a47706-2796-4e0a-d7b7-7bd3586cecaf"
      },
      "source": [
        " # Building dictionary of Intents & Keywords\n",
        "keywords={}\n",
        "keywords_dict={}\n",
        " \n",
        "# Defining a new key in the keywords dictionary\n",
        "keywords['hello']=[]\n",
        " \n",
        "# Populating the values in the keywords dictionary with synonyms of keywords formatted with RegEx metacharacters \n",
        "for synonym in list(list_syn['hello']):\n",
        "    keywords['hello'].append('.*\\\\b'+synonym+'\\\\b.*')\n",
        " \n",
        "# Defining a new key in the keywords dictionary\n",
        "keywords['timings']=[]\n",
        " \n",
        "# Populating the values in the keywords dictionary with synonyms of keywords formatted with RegEx metacharacters \n",
        "for synonym in list(list_syn['timings']):\n",
        "    keywords['timings'].append('.*\\\\b'+synonym+'\\\\b.*')\n",
        " \n",
        "# Defining a new key in the keywords dictionary\n",
        "keywords['register']=[]\n",
        "# Populating the values in the keywords dictionary with synonyms of keywords formatted with RegEx metacharacters \n",
        "for synonym in list(list_syn['register']):\n",
        "    keywords['register'].append('.*\\\\b'+synonym+'\\\\b.*') \n",
        "# Defining a new key in the keywords dictionary\n",
        "keywords['history']=[]\n",
        " \n",
        "# Populating the values in the keywords dictionary with synonyms of keywords formatted with RegEx metacharacters \n",
        "for synonym in list(list_syn['history']):\n",
        "    keywords['history'].append('.*\\\\b'+synonym+'\\\\b.*')\n",
        " \n",
        "# Defining a new key in the keywords dictionary\n",
        "keywords['balance']=[]\n",
        " \n",
        "# Populating the values in the keywords dictionary with synonyms of keywords formatted with RegEx metacharacters \n",
        "for synonym in list(list_syn['balance']):\n",
        "    keywords['balance'].append('.*\\\\b'+synonym+'\\\\b.*')\n",
        " \n",
        "for intent, keys in keywords.items():\n",
        "    \n",
        "    # Joining the values in the keywords dictionary with the OR (|) operator updating them in keywords_dict dictionary\n",
        "    keywords_dict[intent]=re.compile('|'.join(keys))\n",
        "print (keywords_dict)"
      ],
      "execution_count": 39,
      "outputs": [
        {
          "output_type": "stream",
          "text": [
            "{'hello': re.compile('.*\\\\bhello\\\\b.*|.*\\\\bhullo\\\\b.*|.*\\\\bhi\\\\b.*|.*\\\\bhow do you do\\\\b.*|.*\\\\bhowdy\\\\b.*'), 'timings': re.compile('.*\\\\btiming\\\\b.*|.*\\\\btime\\\\b.*|.*\\\\bclock\\\\b.*'), 'register': re.compile('.*\\\\bcash register\\\\b.*|.*\\\\bshow\\\\b.*|.*\\\\bregister\\\\b.*|.*\\\\brecord\\\\b.*|.*\\\\bread\\\\b.*|.*\\\\bcross file\\\\b.*|.*\\\\bfile\\\\b.*|.*\\\\bregistry\\\\b.*'), 'history': re.compile('.*\\\\bhistory\\\\b.*|.*\\\\baccount\\\\b.*|.*\\\\bstory\\\\b.*|.*\\\\bchronicle\\\\b.*'), 'balance': re.compile('.*\\\\bequaliser\\\\b.*|.*\\\\brest\\\\b.*|.*\\\\bremainder\\\\b.*|.*\\\\bLibra the Scales\\\\b.*|.*\\\\bsymmetry\\\\b.*|.*\\\\bequilibrise\\\\b.*|.*\\\\bbalance\\\\b.*|.*\\\\bresiduum\\\\b.*|.*\\\\bcounterbalance\\\\b.*|.*\\\\bpoise\\\\b.)}\n"
          ],
          "name": "stdout"
        }
      ]
    },
    {
      "cell_type": "code",
      "metadata": {
        "id": "1nKn_Nu86USI"
      },
      "source": [
        " # Building a dictionary of responses\n",
        "responses={\n",
        "    'greet':'Hello! How can I help you?',\n",
        "    'timings':'We are open from 9AM to 5PM, Monday to Friday. We are closed on weekends and public holidays.',\n",
        "    'register': 'Please provide the information being asked.',\n",
        "    'history': 'Would you like to view your transaction history?',\n",
        "    'balance': 'Do you want to print receipt after viewing your remaining balance?',\n",
        "    'ask': 'How can I open a bank account?.',\n",
        "    'fallback':'I dont quite understand. Could you repeat that?',\n",
        " \n",
        "    \n",
        "}"
      ],
      "execution_count": 40,
      "outputs": []
    },
    {
      "cell_type": "code",
      "metadata": {
        "colab": {
          "base_uri": "https://localhost:8080/"
        },
        "id": "aK5HT4Kb6qwt",
        "outputId": "da058b60-e180-4bc9-e4ab-72a86f597197"
      },
      "source": [
        " \n",
        "print (\"Welcome to MyBank. How may I help you?\")\n",
        " \n",
        "# While loop to run the chatbot indefinetely\n",
        "while (True):  \n",
        "    \n",
        "    # Takes the user input and converts all characters to lowercase\n",
        "    user_input = input().lower()\n",
        "    \n",
        "    # Defining the Chatbot's exit condition\n",
        "    if user_input == 'quit': \n",
        "        print (\"Thank you for banking with us!.\")\n",
        "        break    \n",
        "    \n",
        "    matched_intent = None \n",
        "    \n",
        "    for intent,pattern in keywords_dict.items():\n",
        "        \n",
        "        # Using the regular expression search function to look for keywords in user input\n",
        "        if re.search(pattern, user_input): \n",
        "            \n",
        "            # if a keyword matches, select the corresponding intent from the keywords_dict dictionary\n",
        "            matched_intent=intent  \n",
        "    \n",
        "    # The fallback intent is selected by default\n",
        "    key='fallback' \n",
        "    if matched_intent in responses:\n",
        "        \n",
        "        # If a keyword matches, the fallback intent is replaced by the matched intent as the key for the responses dictionary\n",
        "        key = matched_intent \n",
        "    \n",
        "    # The chatbot prints the response that matches the selected intent\n",
        "    print (responses[key])"
      ],
      "execution_count": 41,
      "outputs": [
        {
          "output_type": "stream",
          "text": [
            "Welcome to MyBank. How may I help you?\n",
            "register\n",
            "Please provide the information being asked.\n",
            "record\n",
            "Please provide the information being asked.\n",
            "balance\n",
            "Do you want to print receipt after viewing your remaining balance?\n",
            "history\n",
            "Would you like to view your transaction history?\n",
            "quit\n",
            "Thank you for banking with us!.\n"
          ],
          "name": "stdout"
        }
      ]
    }
  ]
}